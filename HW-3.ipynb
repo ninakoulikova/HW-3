{
 "cells": [
  {
   "cell_type": "markdown",
   "metadata": {},
   "source": [
    "# Домашняя работа-2019-05-26"
   ]
  },
  {
   "cell_type": "markdown",
   "metadata": {},
   "source": [
    "## Задание 1"
   ]
  },
  {
   "cell_type": "code",
   "execution_count": 1,
   "metadata": {
    "collapsed": true
   },
   "outputs": [],
   "source": [
    "data = [\n",
    "[13, 25, 23, 34],\n",
    "[45, 32, 44, 47],\n",
    "[12, 33, 23, 95],\n",
    "[13, 53, 34, 35],\n",
    "]"
   ]
  },
  {
   "cell_type": "code",
   "execution_count": 28,
   "metadata": {
    "collapsed": false
   },
   "outputs": [],
   "source": [
    "def get_sum_of_diag_elems(data):\n",
    "    sum_diag = 0\n",
    "    for i in range(len(data)):\n",
    "        sum_diag = sum_diag + data[i][i]\n",
    "    return sum_diag"
   ]
  },
  {
   "cell_type": "code",
   "execution_count": 29,
   "metadata": {
    "collapsed": false
   },
   "outputs": [
    {
     "data": {
      "text/plain": [
       "103"
      ]
     },
     "execution_count": 29,
     "metadata": {},
     "output_type": "execute_result"
    }
   ],
   "source": [
    "get_sum_of_diag_elems(data)"
   ]
  },
  {
   "cell_type": "markdown",
   "metadata": {},
   "source": [
    "## Задание 2"
   ]
  },
  {
   "cell_type": "code",
   "execution_count": 31,
   "metadata": {
    "collapsed": false
   },
   "outputs": [],
   "source": [
    "data = [1, '5', 'abc', 20, '2']"
   ]
  },
  {
   "cell_type": "code",
   "execution_count": 41,
   "metadata": {
    "collapsed": true
   },
   "outputs": [],
   "source": [
    "def get_sum_of_squares(data):\n",
    "    sum_of_squares=0\n",
    "    for i in range(len(data)):\n",
    "        try:\n",
    "            sum_of_squares=sum_of_squares + float(data[i])**2\n",
    "        except:\n",
    "            sum_of_squares=sum_of_squares + 0\n",
    "    \n",
    "    return sum_of_squares"
   ]
  },
  {
   "cell_type": "code",
   "execution_count": 42,
   "metadata": {
    "collapsed": false
   },
   "outputs": [
    {
     "data": {
      "text/plain": [
       "430.0"
      ]
     },
     "execution_count": 42,
     "metadata": {},
     "output_type": "execute_result"
    }
   ],
   "source": [
    "get_sum_of_squares(data)"
   ]
  },
  {
   "cell_type": "markdown",
   "metadata": {},
   "source": [
    "## Задание 3"
   ]
  },
  {
   "cell_type": "code",
   "execution_count": null,
   "metadata": {
    "collapsed": true
   },
   "outputs": [],
   "source": [
    "# импортируем библиотеки для загрузки json файла с сайта Банка России и преобразования файла в словарь"
   ]
  },
  {
   "cell_type": "code",
   "execution_count": 49,
   "metadata": {
    "collapsed": false
   },
   "outputs": [],
   "source": [
    "import urllib.request, json\n",
    "with urllib.request.urlopen('https://www.cbr-xml-daily.ru/daily_json.js') as url:\n",
    "    data = json.loads(url.read().decode())"
   ]
  },
  {
   "cell_type": "code",
   "execution_count": 94,
   "metadata": {
    "collapsed": false
   },
   "outputs": [
    {
     "data": {
      "text/plain": [
       "{'Date': '2019-05-25T11:30:00+03:00',\n",
       " 'PreviousDate': '2019-05-24T11:30:00+03:00',\n",
       " 'PreviousURL': '//www.cbr-xml-daily.ru/archive/2019/05/24/daily_json.js',\n",
       " 'Timestamp': '2019-05-26T22:00:00+03:00',\n",
       " 'Valute': {'AMD': {'CharCode': 'AMD',\n",
       "   'ID': 'R01060',\n",
       "   'Name': 'Армянских драмов',\n",
       "   'Nominal': 100,\n",
       "   'NumCode': '051',\n",
       "   'Previous': 13.4525,\n",
       "   'Value': 13.4746},\n",
       "  'AUD': {'CharCode': 'AUD',\n",
       "   'ID': 'R01010',\n",
       "   'Name': 'Австралийский доллар',\n",
       "   'Nominal': 1,\n",
       "   'NumCode': '036',\n",
       "   'Previous': 44.2991,\n",
       "   'Value': 44.5942},\n",
       "  'AZN': {'CharCode': 'AZN',\n",
       "   'ID': 'R01020A',\n",
       "   'Name': 'Азербайджанский манат',\n",
       "   'Nominal': 1,\n",
       "   'NumCode': '944',\n",
       "   'Previous': 38.0143,\n",
       "   'Value': 38.0846},\n",
       "  'BGN': {'CharCode': 'BGN',\n",
       "   'ID': 'R01100',\n",
       "   'Name': 'Болгарский лев',\n",
       "   'Nominal': 1,\n",
       "   'NumCode': '975',\n",
       "   'Previous': 36.7116,\n",
       "   'Value': 36.9689},\n",
       "  'BRL': {'CharCode': 'BRL',\n",
       "   'ID': 'R01115',\n",
       "   'Name': 'Бразильский реал',\n",
       "   'Nominal': 1,\n",
       "   'NumCode': '986',\n",
       "   'Previous': 15.9616,\n",
       "   'Value': 15.9852},\n",
       "  'BYN': {'CharCode': 'BYN',\n",
       "   'ID': 'R01090B',\n",
       "   'Name': 'Белорусский рубль',\n",
       "   'Nominal': 1,\n",
       "   'NumCode': '933',\n",
       "   'Previous': 31.0308,\n",
       "   'Value': 31.1092},\n",
       "  'CAD': {'CharCode': 'CAD',\n",
       "   'ID': 'R01350',\n",
       "   'Name': 'Канадский доллар',\n",
       "   'Nominal': 1,\n",
       "   'NumCode': '124',\n",
       "   'Previous': 47.9062,\n",
       "   'Value': 48.0305},\n",
       "  'CHF': {'CharCode': 'CHF',\n",
       "   'ID': 'R01775',\n",
       "   'Name': 'Швейцарский франк',\n",
       "   'Nominal': 1,\n",
       "   'NumCode': '756',\n",
       "   'Previous': 63.8844,\n",
       "   'Value': 64.4623},\n",
       "  'CNY': {'CharCode': 'CNY',\n",
       "   'ID': 'R01375',\n",
       "   'Name': 'Китайских юаней',\n",
       "   'Nominal': 10,\n",
       "   'NumCode': '156',\n",
       "   'Previous': 93.2171,\n",
       "   'Value': 93.5721},\n",
       "  'CZK': {'CharCode': 'CZK',\n",
       "   'ID': 'R01760',\n",
       "   'Name': 'Чешских крон',\n",
       "   'Nominal': 10,\n",
       "   'NumCode': '203',\n",
       "   'Previous': 27.8088,\n",
       "   'Value': 27.9784},\n",
       "  'DKK': {'CharCode': 'DKK',\n",
       "   'ID': 'R01215',\n",
       "   'Name': 'Датских крон',\n",
       "   'Nominal': 10,\n",
       "   'NumCode': '208',\n",
       "   'Previous': 96.1595,\n",
       "   'Value': 96.8239},\n",
       "  'EUR': {'CharCode': 'EUR',\n",
       "   'ID': 'R01239',\n",
       "   'Name': 'Евро',\n",
       "   'Nominal': 1,\n",
       "   'NumCode': '978',\n",
       "   'Previous': 71.8369,\n",
       "   'Value': 72.3186},\n",
       "  'GBP': {'CharCode': 'GBP',\n",
       "   'ID': 'R01035',\n",
       "   'Name': 'Фунт стерлингов Соединенного королевства',\n",
       "   'Nominal': 1,\n",
       "   'NumCode': '826',\n",
       "   'Previous': 81.3364,\n",
       "   'Value': 81.9262},\n",
       "  'HKD': {'CharCode': 'HKD',\n",
       "   'ID': 'R01200',\n",
       "   'Name': 'Гонконгских долларов',\n",
       "   'Nominal': 10,\n",
       "   'NumCode': '344',\n",
       "   'Previous': 82.165,\n",
       "   'Value': 82.3243},\n",
       "  'HUF': {'CharCode': 'HUF',\n",
       "   'ID': 'R01135',\n",
       "   'Name': 'Венгерских форинтов',\n",
       "   'Nominal': 100,\n",
       "   'NumCode': '348',\n",
       "   'Previous': 21.9679,\n",
       "   'Value': 22.1713},\n",
       "  'INR': {'CharCode': 'INR',\n",
       "   'ID': 'R01270',\n",
       "   'Name': 'Индийских рупий',\n",
       "   'Nominal': 100,\n",
       "   'NumCode': '356',\n",
       "   'Previous': 92.4673,\n",
       "   'Value': 92.7685},\n",
       "  'JPY': {'CharCode': 'JPY',\n",
       "   'ID': 'R01820',\n",
       "   'Name': 'Японских иен',\n",
       "   'Nominal': 100,\n",
       "   'NumCode': '392',\n",
       "   'Previous': 58.5141,\n",
       "   'Value': 58.9916},\n",
       "  'KGS': {'CharCode': 'KGS',\n",
       "   'ID': 'R01370',\n",
       "   'Name': 'Киргизских сомов',\n",
       "   'Nominal': 100,\n",
       "   'NumCode': '417',\n",
       "   'Previous': 92.3283,\n",
       "   'Value': 92.4991},\n",
       "  'KRW': {'CharCode': 'KRW',\n",
       "   'ID': 'R01815',\n",
       "   'Name': 'Вон Республики Корея',\n",
       "   'Nominal': 1000,\n",
       "   'NumCode': '410',\n",
       "   'Previous': 54.1003,\n",
       "   'Value': 54.4053},\n",
       "  'KZT': {'CharCode': 'KZT',\n",
       "   'ID': 'R01335',\n",
       "   'Name': 'Казахстанских тенге',\n",
       "   'Nominal': 100,\n",
       "   'NumCode': '398',\n",
       "   'Previous': 17.0601,\n",
       "   'Value': 17.033},\n",
       "  'MDL': {'CharCode': 'MDL',\n",
       "   'ID': 'R01500',\n",
       "   'Name': 'Молдавских леев',\n",
       "   'Nominal': 10,\n",
       "   'NumCode': '498',\n",
       "   'Previous': 35.7392,\n",
       "   'Value': 35.7557},\n",
       "  'NOK': {'CharCode': 'NOK',\n",
       "   'ID': 'R01535',\n",
       "   'Name': 'Норвежских крон',\n",
       "   'Nominal': 10,\n",
       "   'NumCode': '578',\n",
       "   'Previous': 73.6337,\n",
       "   'Value': 74.0743},\n",
       "  'PLN': {'CharCode': 'PLN',\n",
       "   'ID': 'R01565',\n",
       "   'Name': 'Польский злотый',\n",
       "   'Nominal': 1,\n",
       "   'NumCode': '985',\n",
       "   'Previous': 16.6614,\n",
       "   'Value': 16.8235},\n",
       "  'RON': {'CharCode': 'RON',\n",
       "   'ID': 'R01585F',\n",
       "   'Name': 'Румынский лей',\n",
       "   'Nominal': 1,\n",
       "   'NumCode': '946',\n",
       "   'Previous': 15.0815,\n",
       "   'Value': 15.1928},\n",
       "  'SEK': {'CharCode': 'SEK',\n",
       "   'ID': 'R01770',\n",
       "   'Name': 'Шведских крон',\n",
       "   'Nominal': 10,\n",
       "   'NumCode': '752',\n",
       "   'Previous': 66.9143,\n",
       "   'Value': 67.3771},\n",
       "  'SGD': {'CharCode': 'SGD',\n",
       "   'ID': 'R01625',\n",
       "   'Name': 'Сингапурский доллар',\n",
       "   'Nominal': 1,\n",
       "   'NumCode': '702',\n",
       "   'Previous': 46.6618,\n",
       "   'Value': 46.9213},\n",
       "  'TJS': {'CharCode': 'TJS',\n",
       "   'ID': 'R01670',\n",
       "   'Name': 'Таджикских сомони',\n",
       "   'Nominal': 10,\n",
       "   'NumCode': '972',\n",
       "   'Previous': 68.3895,\n",
       "   'Value': 68.4797},\n",
       "  'TMT': {'CharCode': 'TMT',\n",
       "   'ID': 'R01710A',\n",
       "   'Name': 'Новый туркменский манат',\n",
       "   'Nominal': 1,\n",
       "   'NumCode': '934',\n",
       "   'Previous': 18.4524,\n",
       "   'Value': 18.4866},\n",
       "  'TRY': {'CharCode': 'TRY',\n",
       "   'ID': 'R01700J',\n",
       "   'Name': 'Турецкая лира',\n",
       "   'Nominal': 1,\n",
       "   'NumCode': '949',\n",
       "   'Previous': 10.504,\n",
       "   'Value': 10.6205},\n",
       "  'UAH': {'CharCode': 'UAH',\n",
       "   'ID': 'R01720',\n",
       "   'Name': 'Украинских гривен',\n",
       "   'Nominal': 10,\n",
       "   'NumCode': '980',\n",
       "   'Previous': 24.5065,\n",
       "   'Value': 24.4113},\n",
       "  'USD': {'CharCode': 'USD',\n",
       "   'ID': 'R01235',\n",
       "   'Name': 'Доллар США',\n",
       "   'Nominal': 1,\n",
       "   'NumCode': '840',\n",
       "   'Previous': 64.4913,\n",
       "   'Value': 64.6106},\n",
       "  'UZS': {'CharCode': 'UZS',\n",
       "   'ID': 'R01717',\n",
       "   'Name': 'Узбекских сумов',\n",
       "   'Nominal': 10000,\n",
       "   'NumCode': '860',\n",
       "   'Previous': 76.2452,\n",
       "   'Value': 76.3862},\n",
       "  'XDR': {'CharCode': 'XDR',\n",
       "   'ID': 'R01589',\n",
       "   'Name': 'СДР (специальные права заимствования)',\n",
       "   'Nominal': 1,\n",
       "   'NumCode': '960',\n",
       "   'Previous': 88.8639,\n",
       "   'Value': 88.9404},\n",
       "  'ZAR': {'CharCode': 'ZAR',\n",
       "   'ID': 'R01810',\n",
       "   'Name': 'Южноафриканских рэндов',\n",
       "   'Nominal': 10,\n",
       "   'NumCode': '710',\n",
       "   'Previous': 44.5942,\n",
       "   'Value': 44.7851}}}"
      ]
     },
     "execution_count": 94,
     "metadata": {},
     "output_type": "execute_result"
    }
   ],
   "source": [
    "# посмотрим на структуру данных\n",
    "data"
   ]
  },
  {
   "cell_type": "code",
   "execution_count": 95,
   "metadata": {
    "collapsed": false
   },
   "outputs": [
    {
     "data": {
      "text/plain": [
       "dict_keys(['PreviousDate', 'Valute', 'Date', 'PreviousURL', 'Timestamp'])"
      ]
     },
     "execution_count": 95,
     "metadata": {},
     "output_type": "execute_result"
    }
   ],
   "source": [
    "# посмотрим на ключи этого словаря\n",
    "data.keys()"
   ]
  },
  {
   "cell_type": "code",
   "execution_count": 96,
   "metadata": {
    "collapsed": false
   },
   "outputs": [
    {
     "data": {
      "text/plain": [
       "'2019-05-24T11:30:00+03:00'"
      ]
     },
     "execution_count": 96,
     "metadata": {},
     "output_type": "execute_result"
    }
   ],
   "source": [
    " # посмотрим на значение выбранного ключа\n",
    "data['PreviousDate']"
   ]
  },
  {
   "cell_type": "code",
   "execution_count": 97,
   "metadata": {
    "collapsed": false
   },
   "outputs": [
    {
     "data": {
      "text/plain": [
       "dict_keys(['SEK', 'AMD', 'DKK', 'GBP', 'XDR', 'AZN', 'AUD', 'INR', 'TJS', 'UAH', 'ZAR', 'USD', 'MDL', 'UZS', 'KZT', 'CZK', 'CNY', 'CAD', 'RON', 'NOK', 'JPY', 'TMT', 'BRL', 'BGN', 'KGS', 'HKD', 'HUF', 'CHF', 'TRY', 'BYN', 'SGD', 'PLN', 'KRW', 'EUR'])"
      ]
     },
     "execution_count": 97,
     "metadata": {},
     "output_type": "execute_result"
    }
   ],
   "source": [
    "# нам нужны данные с ключом Valute\n",
    "data['Valute'].keys()"
   ]
  },
  {
   "cell_type": "code",
   "execution_count": 98,
   "metadata": {
    "collapsed": true
   },
   "outputs": [],
   "source": [
    "# сделаем подсловарь, с которым будем работать\n",
    "valutes=data['Valute']"
   ]
  },
  {
   "cell_type": "code",
   "execution_count": 99,
   "metadata": {
    "collapsed": false
   },
   "outputs": [
    {
     "data": {
      "text/plain": [
       "dict_keys(['SEK', 'AMD', 'DKK', 'GBP', 'XDR', 'AZN', 'AUD', 'INR', 'TJS', 'UAH', 'ZAR', 'USD', 'MDL', 'UZS', 'KZT', 'CZK', 'CNY', 'CAD', 'RON', 'NOK', 'JPY', 'TMT', 'BRL', 'BGN', 'KGS', 'HKD', 'HUF', 'CHF', 'TRY', 'BYN', 'SGD', 'PLN', 'KRW', 'EUR'])"
      ]
     },
     "execution_count": 99,
     "metadata": {},
     "output_type": "execute_result"
    }
   ],
   "source": [
    "# посмотрим на ключи - это нужные нам валюты\n",
    "valutes.keys()"
   ]
  },
  {
   "cell_type": "code",
   "execution_count": 101,
   "metadata": {
    "collapsed": false
   },
   "outputs": [
    {
     "data": {
      "text/plain": [
       "{'CharCode': 'SEK',\n",
       " 'ID': 'R01770',\n",
       " 'Name': 'Шведских крон',\n",
       " 'Nominal': 10,\n",
       " 'NumCode': '752',\n",
       " 'Previous': 66.9143,\n",
       " 'Value': 67.3771}"
      ]
     },
     "execution_count": 101,
     "metadata": {},
     "output_type": "execute_result"
    }
   ],
   "source": [
    "# посмотрим на структуру данных для одной валюты, будем искать валюту с максимальным Value\n",
    "valutes['SEK']"
   ]
  },
  {
   "cell_type": "code",
   "execution_count": 102,
   "metadata": {
    "collapsed": false
   },
   "outputs": [],
   "source": [
    "# для последующей сортировки преобразуем словарь valutes в список\n",
    "list_valutes = list(valutes.values())"
   ]
  },
  {
   "cell_type": "code",
   "execution_count": 103,
   "metadata": {
    "collapsed": false
   },
   "outputs": [
    {
     "data": {
      "text/plain": [
       "{'CharCode': 'SEK',\n",
       " 'ID': 'R01770',\n",
       " 'Name': 'Шведских крон',\n",
       " 'Nominal': 10,\n",
       " 'NumCode': '752',\n",
       " 'Previous': 66.9143,\n",
       " 'Value': 67.3771}"
      ]
     },
     "execution_count": 103,
     "metadata": {},
     "output_type": "execute_result"
    }
   ],
   "source": [
    "# выведем для примера нулевой элемент списка\n",
    "list_valutes[0]"
   ]
  },
  {
   "cell_type": "code",
   "execution_count": 104,
   "metadata": {
    "collapsed": false
   },
   "outputs": [],
   "source": [
    "# в списке list_valutes найдем элемент с максимальным Value\n",
    "max_of_valutes = max(list_valutes, key=lambda x: x['Value'])"
   ]
  },
  {
   "cell_type": "code",
   "execution_count": 105,
   "metadata": {
    "collapsed": false
   },
   "outputs": [
    {
     "data": {
      "text/plain": [
       "'Датских крон'"
      ]
     },
     "execution_count": 105,
     "metadata": {},
     "output_type": "execute_result"
    }
   ],
   "source": [
    "max_of_valutes['Name']"
   ]
  },
  {
   "cell_type": "code",
   "execution_count": null,
   "metadata": {
    "collapsed": true
   },
   "outputs": [],
   "source": []
  }
 ],
 "metadata": {
  "kernelspec": {
   "display_name": "Python [default]",
   "language": "python",
   "name": "python3"
  },
  "language_info": {
   "codemirror_mode": {
    "name": "ipython",
    "version": 3
   },
   "file_extension": ".py",
   "mimetype": "text/x-python",
   "name": "python",
   "nbconvert_exporter": "python",
   "pygments_lexer": "ipython3",
   "version": "3.5.2"
  }
 },
 "nbformat": 4,
 "nbformat_minor": 1
}
